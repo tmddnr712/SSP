{
 "cells": [
  {
   "cell_type": "code",
   "execution_count": 1,
   "id": "careful-lighter",
   "metadata": {},
   "outputs": [
    {
     "name": "stdout",
     "output_type": "stream",
     "text": [
      "Smaller\n",
      "Finish\n"
     ]
    }
   ],
   "source": [
    "x=5\n",
    "if x<10:\n",
    "    print('Smaller') # Smaller가 출력\n",
    "    \n",
    "if x>20:\n",
    "    print('Bigger')\n",
    "    \n",
    "print('Finish') # Finish가 출력"
   ]
  },
  {
   "cell_type": "code",
   "execution_count": null,
   "id": "going-nutrition",
   "metadata": {},
   "outputs": [],
   "source": []
  }
 ],
 "metadata": {
  "kernelspec": {
   "display_name": "Python 3",
   "language": "python",
   "name": "python3"
  },
  "language_info": {
   "codemirror_mode": {
    "name": "ipython",
    "version": 3
   },
   "file_extension": ".py",
   "mimetype": "text/x-python",
   "name": "python",
   "nbconvert_exporter": "python",
   "pygments_lexer": "ipython3",
   "version": "3.7.3"
  }
 },
 "nbformat": 4,
 "nbformat_minor": 5
}
