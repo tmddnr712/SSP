{
 "cells": [
  {
   "cell_type": "code",
   "execution_count": 2,
   "id": "pacific-single",
   "metadata": {},
   "outputs": [
    {
     "name": "stdout",
     "output_type": "stream",
     "text": [
      "5\n",
      "4\n",
      "3\n",
      "2\n",
      "1\n",
      "Blastoff!\n"
     ]
    }
   ],
   "source": [
    "n = 5\n",
    "while n > 0:\n",
    "    print(n) # 5, 4, 3, 2, 1을 출력\n",
    "    n = n - 1 # 이 줄 삭제시 5 무한출력\n",
    "print('Blastoff!') # Blastoff를 출력"
   ]
  },
  {
   "cell_type": "code",
   "execution_count": null,
   "id": "discrete-lunch",
   "metadata": {},
   "outputs": [],
   "source": []
  }
 ],
 "metadata": {
  "kernelspec": {
   "display_name": "Python 3",
   "language": "python",
   "name": "python3"
  },
  "language_info": {
   "codemirror_mode": {
    "name": "ipython",
    "version": 3
   },
   "file_extension": ".py",
   "mimetype": "text/x-python",
   "name": "python",
   "nbconvert_exporter": "python",
   "pygments_lexer": "ipython3",
   "version": "3.7.3"
  }
 },
 "nbformat": 4,
 "nbformat_minor": 5
}
