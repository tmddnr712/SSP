{
 "cells": [
  {
   "cell_type": "code",
   "execution_count": null,
   "id": "computational-yeast",
   "metadata": {},
   "outputs": [],
   "source": [
    "class Person:\n",
    "    def greeting(self):\n",
    "        print('Hello')"
   ]
  },
  {
   "cell_type": "code",
   "execution_count": null,
   "id": "broadband-album",
   "metadata": {},
   "outputs": [],
   "source": [
    "james = Person()"
   ]
  },
  {
   "cell_type": "code",
   "execution_count": null,
   "id": "postal-navigation",
   "metadata": {},
   "outputs": [],
   "source": [
    "james.greeting()"
   ]
  },
  {
   "cell_type": "code",
   "execution_count": null,
   "id": "caring-dream",
   "metadata": {},
   "outputs": [],
   "source": [
    "a = int(10)\n",
    "a\n",
    "\n",
    "b = list(range(10))\n",
    "b\n",
    "\n",
    "c = dict(x = 10, y = 20)\n",
    "c"
   ]
  },
  {
   "cell_type": "code",
   "execution_count": null,
   "id": "forbidden-deputy",
   "metadata": {},
   "outputs": [],
   "source": [
    "a = 10\n",
    "type(a)\n",
    "\n",
    "b = [0, 1, 2]\n",
    "type(b)\n",
    "\n",
    "c = {'x': 10, 'y' : 20}\n",
    "type(c)\n",
    "\n",
    "maria = Person()\n",
    "type(maria)"
   ]
  },
  {
   "cell_type": "code",
   "execution_count": 1,
   "id": "attractive-freedom",
   "metadata": {},
   "outputs": [],
   "source": [
    "class Person:\n",
    "    pass"
   ]
  },
  {
   "cell_type": "code",
   "execution_count": 2,
   "id": "ruled-tribe",
   "metadata": {},
   "outputs": [],
   "source": [
    "class Person:\n",
    "    def greeting(self):\n",
    "        print('Hello')\n",
    "        \n",
    "    def hello(self):\n",
    "        self.greeting()"
   ]
  },
  {
   "cell_type": "code",
   "execution_count": 3,
   "id": "fancy-receptor",
   "metadata": {},
   "outputs": [],
   "source": [
    "james = Person()"
   ]
  },
  {
   "cell_type": "code",
   "execution_count": 4,
   "id": "declared-senegal",
   "metadata": {},
   "outputs": [
    {
     "name": "stdout",
     "output_type": "stream",
     "text": [
      "Hello\n"
     ]
    }
   ],
   "source": [
    "james.hello()"
   ]
  },
  {
   "cell_type": "code",
   "execution_count": 5,
   "id": "direct-dependence",
   "metadata": {},
   "outputs": [],
   "source": [
    "class Person:\n",
    "    pass"
   ]
  },
  {
   "cell_type": "code",
   "execution_count": 6,
   "id": "capital-lewis",
   "metadata": {},
   "outputs": [],
   "source": [
    "james = Person()"
   ]
  },
  {
   "cell_type": "code",
   "execution_count": 7,
   "id": "valuable-decimal",
   "metadata": {},
   "outputs": [
    {
     "data": {
      "text/plain": [
       "True"
      ]
     },
     "execution_count": 7,
     "metadata": {},
     "output_type": "execute_result"
    }
   ],
   "source": [
    "isinstance(james, Person)"
   ]
  },
  {
   "cell_type": "code",
   "execution_count": 8,
   "id": "looking-albuquerque",
   "metadata": {},
   "outputs": [],
   "source": [
    "def factorial(n):\n",
    "    if not isinstance(n, int) or n < 0:  # n이 정수가 아니거나 음수이면 함수를 끝냄\n",
    "        return None\n",
    "    if n == 1:\n",
    "        return 1\n",
    "    return n * factorial(n - 1)"
   ]
  },
  {
   "cell_type": "code",
   "execution_count": 9,
   "id": "editorial-andorra",
   "metadata": {},
   "outputs": [
    {
     "data": {
      "text/plain": [
       "120"
      ]
     },
     "execution_count": 9,
     "metadata": {},
     "output_type": "execute_result"
    }
   ],
   "source": [
    "factorial(5)"
   ]
  },
  {
   "cell_type": "code",
   "execution_count": null,
   "id": "limited-gossip",
   "metadata": {},
   "outputs": [],
   "source": []
  }
 ],
 "metadata": {
  "kernelspec": {
   "display_name": "Python 3",
   "language": "python",
   "name": "python3"
  },
  "language_info": {
   "codemirror_mode": {
    "name": "ipython",
    "version": 3
   },
   "file_extension": ".py",
   "mimetype": "text/x-python",
   "name": "python",
   "nbconvert_exporter": "python",
   "pygments_lexer": "ipython3",
   "version": "3.7.3"
  }
 },
 "nbformat": 4,
 "nbformat_minor": 5
}
