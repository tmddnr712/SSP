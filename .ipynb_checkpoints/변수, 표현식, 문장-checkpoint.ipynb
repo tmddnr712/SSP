{
 "cells": [
  {
   "cell_type": "code",
   "execution_count": 1,
   "id": "environmental-celebration",
   "metadata": {},
   "outputs": [
    {
     "name": "stdout",
     "output_type": "stream",
     "text": [
      "123\n",
      "98.6\n",
      "Hello World\n"
     ]
    }
   ],
   "source": [
    "# 상수(Constants), 상수는 값이 편하지 않는다.\n",
    "print(123) #123으로 출력, 123이 상수\n",
    "print(98.6) #98.6으로 출력, 98.6이 상수\n",
    "print(\"Hello World\") #Hello World로 출력, Hello World가 상수"
   ]
  },
  {
   "cell_type": "code",
   "execution_count": 2,
   "id": "infrared-richards",
   "metadata": {},
   "outputs": [],
   "source": [
    "# 예약어(Reserved Words)\n",
    "# 파이썬이 정한 의미로만 쓰이는 특별한 단어, Ex) if라는 예약어를 만나게 되면 조건문을 실행\n",
    "\n",
    "# 변수(Variables)\n",
    "# 우리는 메모리에서 사람이 이해 할 수 있는 변수명으로 원하는 데이터를 넣을 수 있는 공간을 확보 가능"
   ]
  },
  {
   "cell_type": "code",
   "execution_count": 3,
   "id": "artistic-gazette",
   "metadata": {},
   "outputs": [
    {
     "name": "stdout",
     "output_type": "stream",
     "text": [
      "12.2\n",
      "100\n"
     ]
    }
   ],
   "source": [
    "x = 12.2\n",
    "print(x) #12.2가 출력됩니다.\n",
    "y = 14\n",
    "x = 100\n",
    "print(x) #100이 출력됩니다."
   ]
  },
  {
   "cell_type": "code",
   "execution_count": 4,
   "id": "divine-thomas",
   "metadata": {},
   "outputs": [
    {
     "name": "stdout",
     "output_type": "stream",
     "text": [
      "437.5\n",
      "437.5\n",
      "437.5\n"
     ]
    }
   ],
   "source": [
    "# Case1 - Worst\n",
    "rkddkwl = 35.0\n",
    "rhdiddl = 12.50\n",
    "ehdanf = rkddkwl * rhdiddl\n",
    "print(ehdanf)\n",
    "\n",
    "# Case2 - Bad\n",
    "a = 35.0\n",
    "b = 12.50\n",
    "c = a*b\n",
    "print(c)\n",
    "\n",
    "# Case3 - Good\n",
    "hours = 35.0\n",
    "rate = 12.50\n",
    "pay = hours * rate\n",
    "print(pay)"
   ]
  },
  {
   "cell_type": "code",
   "execution_count": 6,
   "id": "innovative-reducing",
   "metadata": {},
   "outputs": [
    {
     "name": "stdout",
     "output_type": "stream",
     "text": [
      "0.9359999999999999\n",
      "0.2336256000000002\n"
     ]
    }
   ],
   "source": [
    "x = 0.6\n",
    "x = 3.9 * x * (1 - x)\n",
    "print(x) # 0.936 출력됨. \n",
    "          #3.9 * 0.6 * (1 - 0.6)\n",
    "x = 3.9 * x * (1 - x )\n",
    "print(x) # 0.2336256 출력됨. \n",
    "          #3.9 * 0.936 * (1 - 0.936)"
   ]
  },
  {
   "cell_type": "code",
   "execution_count": null,
   "id": "cross-court",
   "metadata": {},
   "outputs": [],
   "source": []
  }
 ],
 "metadata": {
  "kernelspec": {
   "display_name": "Python 3",
   "language": "python",
   "name": "python3"
  },
  "language_info": {
   "codemirror_mode": {
    "name": "ipython",
    "version": 3
   },
   "file_extension": ".py",
   "mimetype": "text/x-python",
   "name": "python",
   "nbconvert_exporter": "python",
   "pygments_lexer": "ipython3",
   "version": "3.7.3"
  }
 },
 "nbformat": 4,
 "nbformat_minor": 5
}
