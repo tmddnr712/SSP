{
 "cells": [
  {
   "cell_type": "code",
   "execution_count": 13,
   "id": "equal-coating",
   "metadata": {},
   "outputs": [
    {
     "data": {
      "text/plain": [
       "<function __main__.get_NowStockValue(code)>"
      ]
     },
     "execution_count": 13,
     "metadata": {},
     "output_type": "execute_result"
    }
   ],
   "source": [
    "import requests as re\n",
    "from bs4 import BeautifulSoup\n",
    "\n",
    "def get_NowStockValue(code):\n",
    "    url = \"https://finance.naver.com/item/main.nhn?code=005930\" + code\n",
    "    html= re.get(url)\n",
    "    html= html.content\n",
    "    soup= BeautifulSoup(html, 'html.parser', from_encoding='utf=8')\n",
    "    body = soup.find('body')\n",
    "    body_table = body.select('#chart_area > div.rate_info > div > p.no_today')\n",
    "    return body_table[0].find('span').text"
   ]
  },
  {
   "cell_type": "code",
   "execution_count": null,
   "id": "extreme-floor",
   "metadata": {},
   "outputs": [],
   "source": []
  }
 ],
 "metadata": {
  "kernelspec": {
   "display_name": "Python 3",
   "language": "python",
   "name": "python3"
  },
  "language_info": {
   "codemirror_mode": {
    "name": "ipython",
    "version": 3
   },
   "file_extension": ".py",
   "mimetype": "text/x-python",
   "name": "python",
   "nbconvert_exporter": "python",
   "pygments_lexer": "ipython3",
   "version": "3.7.3"
  }
 },
 "nbformat": 4,
 "nbformat_minor": 5
}
